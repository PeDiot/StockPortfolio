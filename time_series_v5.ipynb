{
  "nbformat": 4,
  "nbformat_minor": 0,
  "metadata": {
    "colab": {
      "name": "time_series_v5.ipynb",
      "provenance": [],
      "collapsed_sections": [
        "8Fn72lqnkPAV"
      ]
    },
    "kernelspec": {
      "name": "python3",
      "display_name": "Python 3"
    },
    "language_info": {
      "name": "python"
    }
  },
  "cells": [
    {
      "cell_type": "code",
      "source": [
        "pip install yfinance"
      ],
      "metadata": {
        "id": "q4LOXlr39qy2",
        "colab": {
          "base_uri": "https://localhost:8080/"
        },
        "outputId": "87fa26b5-a1d2-4971-c4ec-0ed5266b4cbf"
      },
      "execution_count": null,
      "outputs": [
        {
          "output_type": "stream",
          "name": "stdout",
          "text": [
            "Collecting yfinance\n",
            "  Downloading yfinance-0.1.70-py2.py3-none-any.whl (26 kB)\n",
            "Requirement already satisfied: multitasking>=0.0.7 in /usr/local/lib/python3.7/dist-packages (from yfinance) (0.0.10)\n",
            "Collecting lxml>=4.5.1\n",
            "  Downloading lxml-4.7.1-cp37-cp37m-manylinux_2_17_x86_64.manylinux2014_x86_64.manylinux_2_24_x86_64.whl (6.4 MB)\n",
            "\u001b[K     |████████████████████████████████| 6.4 MB 5.3 MB/s \n",
            "\u001b[?25hRequirement already satisfied: pandas>=0.24.0 in /usr/local/lib/python3.7/dist-packages (from yfinance) (1.3.5)\n",
            "Collecting requests>=2.26\n",
            "  Downloading requests-2.27.1-py2.py3-none-any.whl (63 kB)\n",
            "\u001b[K     |████████████████████████████████| 63 kB 1.5 MB/s \n",
            "\u001b[?25hRequirement already satisfied: numpy>=1.15 in /usr/local/lib/python3.7/dist-packages (from yfinance) (1.19.5)\n",
            "Requirement already satisfied: python-dateutil>=2.7.3 in /usr/local/lib/python3.7/dist-packages (from pandas>=0.24.0->yfinance) (2.8.2)\n",
            "Requirement already satisfied: pytz>=2017.3 in /usr/local/lib/python3.7/dist-packages (from pandas>=0.24.0->yfinance) (2018.9)\n",
            "Requirement already satisfied: six>=1.5 in /usr/local/lib/python3.7/dist-packages (from python-dateutil>=2.7.3->pandas>=0.24.0->yfinance) (1.15.0)\n",
            "Requirement already satisfied: certifi>=2017.4.17 in /usr/local/lib/python3.7/dist-packages (from requests>=2.26->yfinance) (2021.10.8)\n",
            "Requirement already satisfied: idna<4,>=2.5 in /usr/local/lib/python3.7/dist-packages (from requests>=2.26->yfinance) (2.10)\n",
            "Requirement already satisfied: charset-normalizer~=2.0.0 in /usr/local/lib/python3.7/dist-packages (from requests>=2.26->yfinance) (2.0.11)\n",
            "Requirement already satisfied: urllib3<1.27,>=1.21.1 in /usr/local/lib/python3.7/dist-packages (from requests>=2.26->yfinance) (1.24.3)\n",
            "Installing collected packages: requests, lxml, yfinance\n",
            "  Attempting uninstall: requests\n",
            "    Found existing installation: requests 2.23.0\n",
            "    Uninstalling requests-2.23.0:\n",
            "      Successfully uninstalled requests-2.23.0\n",
            "  Attempting uninstall: lxml\n",
            "    Found existing installation: lxml 4.2.6\n",
            "    Uninstalling lxml-4.2.6:\n",
            "      Successfully uninstalled lxml-4.2.6\n",
            "\u001b[31mERROR: pip's dependency resolver does not currently take into account all the packages that are installed. This behaviour is the source of the following dependency conflicts.\n",
            "google-colab 1.0.0 requires requests~=2.23.0, but you have requests 2.27.1 which is incompatible.\n",
            "datascience 0.10.6 requires folium==0.2.1, but you have folium 0.8.3 which is incompatible.\u001b[0m\n",
            "Successfully installed lxml-4.7.1 requests-2.27.1 yfinance-0.1.70\n"
          ]
        }
      ]
    },
    {
      "cell_type": "code",
      "execution_count": null,
      "metadata": {
        "id": "XBPLOe9HKxk0"
      },
      "outputs": [],
      "source": [
        "import os\n",
        "import csv\n",
        "import numpy as np\n",
        "import tensorflow as tf\n",
        "from tensorflow.keras.layers import Dense,Conv1D,LSTM,Bidirectional,Dropout\n",
        "from tensorflow.keras.models import Model\n",
        "import matplotlib.pyplot as plt\n",
        "import tqdm\n",
        "import logging\n",
        "from pandas_datareader import data as pdr\n",
        "import yfinance as yf\n",
        "\n",
        "logging.getLogger('tensorflow').setLevel(logging.ERROR)\n",
        "\n",
        "import warnings\n",
        "warnings.filterwarnings(\"ignore\")\n",
        "\n",
        "import plotly.graph_objects as go\n",
        "import pandas as pd\n",
        "import plotly.express as px\n",
        "import pickle\n",
        "from statsmodels.tsa.arima_model import ARIMA"
      ]
    },
    {
      "cell_type": "code",
      "source": [
        "OK = False\n",
        "while OK == False:\n",
        "  print('Renseignements actions, parmi les 5')\n",
        "  lvmh = input('LVMH, montant en action\\n')\n",
        "  lvmh = int(lvmh)\n",
        "  air_liquide = input('Air Liquide, montant en action\\n')\n",
        "  air_liquide = int(air_liquide)\n",
        "  airbus = input('Airbus, montant en action\\n')\n",
        "  airbus = int(airbus)\n",
        "  loreal = input(\"L'Oréal, montant en action\\n\")\n",
        "  loreal = int(loreal)\n",
        "  renault = input('Renault, montant en action\\n')\n",
        "  renault = int(renault)\n",
        "  ubisoft = input('Ubisoft, montant en action\\n')\n",
        "  ubisoft = int(ubisoft)\n",
        "  orange = input('Orange, montant en action\\n')\n",
        "  orange = int(orange)\n",
        "  carrefour = input('Carrefour, montant en action\\n')\n",
        "  carrefour = int(carrefour)\n",
        "  tf1 = input('TF1, montant en action\\n')\n",
        "  tf1 = int(tf1)\n",
        "  edf = input('EDF, montant en action\\n')\n",
        "  edf = int(edf)\n",
        "  ovh = input('OVH, montant en action\\n')\n",
        "  ovh = int(ovh)\n",
        "  break"
      ],
      "metadata": {
        "colab": {
          "base_uri": "https://localhost:8080/"
        },
        "id": "lgYnr8TUK1bj",
        "outputId": "83e8f314-b575-4a35-99e8-974be9284aa8"
      },
      "execution_count": null,
      "outputs": [
        {
          "name": "stdout",
          "output_type": "stream",
          "text": [
            "Renseignements actions, parmi les 5\n",
            "LVMH, montant en action\n",
            "2\n",
            "Air Liquide, montant en action\n",
            "6\n",
            "Airbus, montant en action\n",
            "0\n",
            "L'Oréal, montant en action\n",
            "1\n",
            "Renault, montant en action\n",
            "5\n",
            "Ubisoft, montant en action\n",
            "0\n",
            "Orange, montant en action\n",
            "0\n",
            "Carrefour, montant en action\n",
            "12\n",
            "TF1, montant en action\n",
            "0\n",
            "EDF, montant en action\n",
            "0\n",
            "OVH, montant en action\n",
            "2\n"
          ]
        }
      ]
    },
    {
      "cell_type": "code",
      "source": [
        "liste_valeur_action = [lvmh, renault, air_liquide, airbus, loreal, ubisoft, orange, carrefour, tf1, edf, ovh]\n",
        "liste_nom = ['lvmh', 'renault', 'air_liquide', 'airbus', 'loreal', 'ubisoft', 'orange', 'carrefour', 'tf1', 'edf', 'ovh']"
      ],
      "metadata": {
        "id": "PrEwXqCz1AYY"
      },
      "execution_count": null,
      "outputs": []
    },
    {
      "cell_type": "code",
      "source": [
        "def data_base():\n",
        "\n",
        "  data_lvmh = yf.download(\"MC.PA\", start=\"2021-01-01\", progress=False)\n",
        "  d_renault = yf.download(\"RNO.PA\", start=\"2021-01-01\", progress=False)\n",
        "  d_air = yf.download(\"AI.PA\", start=\"2021-01-01\", progress=False)\n",
        "  d_airbus = yf.download(\"AIR.PA\", start=\"2021-01-01\", progress=False)\n",
        "  d_loreal = yf.download(\"OR.PA\", start=\"2021-01-01\", progress=False)\n",
        "  d_ubi = yf.download(\"UBI.PA\", start=\"2021-01-01\", progress=False)\n",
        "  d_orange = yf.download(\"ORA.PA\", start=\"2021-01-01\", progress=False)\n",
        "  d_car = yf.download(\"CA.PA\", start=\"2021-01-01\", progress=False)\n",
        "  d_tf1 = yf.download(\"TFI.PA\", start=\"2021-01-01\", progress=False)\n",
        "  d_edf = yf.download(\"EDF.PA\", start=\"2021-01-01\", progress=False)\n",
        "  d_ovh = yf.download(\"OVH.PA\", start=\"2021-01-01\", progress=False)\n",
        "\n",
        "  return data_lvmh, d_renault, d_air, d_airbus, d_loreal, d_ubi, d_orange, d_car, d_tf1, d_edf, d_ovh"
      ],
      "metadata": {
        "id": "1tuFUhjRwY_3"
      },
      "execution_count": null,
      "outputs": []
    },
    {
      "cell_type": "code",
      "source": [
        "def params(df):\n",
        "  data = df[['Close']]\n",
        "  time = [i for i in range(len(data))]\n",
        "  split_time = round(len(data)*0.8)\n",
        "  data_ = [i for i in data.Close]\n",
        "\n",
        "  window_size = 10# on prend 10 valeurs pour prédire la 11eme\n",
        "  batch_size = 8\n",
        "  return data_, time, split_time, window_size, batch_size"
      ],
      "metadata": {
        "id": "WK96cgEZLLhk"
      },
      "execution_count": null,
      "outputs": []
    },
    {
      "cell_type": "code",
      "source": [
        "def transform_train_test(data_autre):\n",
        "  data_d = params(data_autre)[0]\n",
        "  split_time = params(data_autre)[2]\n",
        "  time = params(data_autre)[1]\n",
        "  window_size = params(data_autre)[3]\n",
        "  batch_size = params(data_autre)[4]\n",
        "\n",
        "  test = data_d[split_time:]\n",
        "  time_test = time[split_time:]\n",
        "\n",
        "  train = data_d[:split_time]\n",
        "  time_train = time[:split_time]\n",
        "\n",
        "  train_df = tf.data.Dataset.from_tensor_slices(train)\n",
        "  train_df = train_df.window(window_size + 1,shift=1,drop_remainder=True)\n",
        "  train_df = train_df.flat_map(lambda window : window.batch(window_size + 1))\n",
        "  train_df = train_df.map(lambda x : (x[:-1],x[-1]))\n",
        "  train_df = train_df.batch(batch_size,drop_remainder=True).prefetch(1)\n",
        "\n",
        "  test_df = tf.data.Dataset.from_tensor_slices(test)\n",
        "  test_df = test_df.window(window_size,shift=1,drop_remainder=True)\n",
        "  test_df = test_df.flat_map(lambda window : window.batch(window_size))\n",
        "  test_df = test_df.batch(1)\n",
        "\n",
        "  return test_df, train_df, time_test, time_train, test"
      ],
      "metadata": {
        "id": "LHgtXUsEMoO4"
      },
      "execution_count": null,
      "outputs": []
    },
    {
      "cell_type": "code",
      "source": [
        "def modelisation():\n",
        "  model = tf.keras.models.load_model('/content/model.h5')\n",
        "  return model"
      ],
      "metadata": {
        "id": "a4LMtlwNPe9J"
      },
      "execution_count": null,
      "outputs": []
    },
    {
      "cell_type": "code",
      "source": [
        "def prediction(data_autre):\n",
        "  model = modelisation()\n",
        "  test_df = transform_train_test(data_autre)[0]\n",
        "  \n",
        "  pred = model.predict(test_df)\n",
        "  final_pred = [pred[i][0] for i in range(len(pred))]\n",
        "\n",
        "  return final_pred"
      ],
      "metadata": {
        "id": "As4mIrp5SVtf"
      },
      "execution_count": null,
      "outputs": []
    },
    {
      "cell_type": "code",
      "source": [
        "data_autre = data_base()[0]\n",
        "time_test = transform_train_test(data_autre)[2]\n",
        "test = transform_train_test(data_autre)[4]\n",
        "pred = prediction(data_autre)\n",
        "\n",
        "plt.plot(time_test[10-1:],test[10-1:])#-1 car il commence a 0\n",
        "plt.plot(time_test[10-1:],pred,color='red')# graphique montrant la prédiction et les données tests"
      ],
      "metadata": {
        "colab": {
          "base_uri": "https://localhost:8080/",
          "height": 282
        },
        "id": "BNydleD7TomZ",
        "outputId": "5eecc3a2-6bbf-46af-832f-878e1eb2d966"
      },
      "execution_count": null,
      "outputs": [
        {
          "output_type": "execute_result",
          "data": {
            "text/plain": [
              "[<matplotlib.lines.Line2D at 0x7f98e698b750>]"
            ]
          },
          "metadata": {},
          "execution_count": 13
        },
        {
          "output_type": "display_data",
          "data": {
            "image/png": "[encoded data removed]",
            "text/plain": [
              "<Figure size 432x288 with 1 Axes>"
            ]
          },
          "metadata": {
            "needs_background": "light"
          }
        }
      ]
    },
    {
      "cell_type": "code",
      "source": [
        "def predictions_futures(data_autre):\n",
        "\n",
        "  window_size = params(data_autre)[3]\n",
        "  model = modelisation()\n",
        "  test = transform_train_test(data_autre)[4]\n",
        "  der_val = list()\n",
        "\n",
        "  next_clo = test[-window_size:]\n",
        "  df_pred_next = tf.data.Dataset.from_tensor_slices(next_clo)\n",
        "  df_pred_next = df_pred_next.window(window_size,shift=1,drop_remainder=True)\n",
        "  df_pred_next = df_pred_next.flat_map(lambda window : window.batch(10))\n",
        "  df_pred_next = df_pred_next.batch(1)\n",
        "\n",
        "  der_val.append(test[-1])\n",
        "  for i in range(5):#prediction 5 jours\n",
        "    test_df = transform_train_test(data_autre)[0]\n",
        "\n",
        "    next_clo = test[-10:]\n",
        "    df_pred_next = tf.data.Dataset.from_tensor_slices(next_clo)\n",
        "    df_pred_next = df_pred_next.window(10,shift=1,drop_remainder=True)\n",
        "    df_pred_next = df_pred_next.flat_map(lambda window : window.batch(10))\n",
        "    df_pred_next = df_pred_next.batch(1)\n",
        "    \n",
        "    model.predict(df_pred_next)[0][0]\n",
        "    test.append(model.predict(df_pred_next)[0][0])\n",
        "\n",
        "  return test[-5:], der_val"
      ],
      "metadata": {
        "id": "HrlyuNYRWVLN"
      },
      "execution_count": null,
      "outputs": []
    },
    {
      "cell_type": "code",
      "source": [
        "def pred_for_each_data():\n",
        "  liste_pred = list()\n",
        "  liste_der_val = list()\n",
        "  for i in range(len(liste_valeur_action)):\n",
        "    data_autre = data_base()[i]\n",
        "    liste_pred.append(predictions_futures(data_autre)[0])\n",
        "    liste_der_val.append(predictions_futures(data_autre)[1])\n",
        "  return liste_pred, liste_der_val"
      ],
      "metadata": {
        "id": "mazxEoVhfXF_"
      },
      "execution_count": null,
      "outputs": []
    },
    {
      "cell_type": "code",
      "source": [
        "def mean_value():\n",
        "  liste_pred = pred_for_each_data()[0]\n",
        "  for i in range(len(liste_pred)):\n",
        "    liste_pred[i] = [elem *liste_valeur_action[i] for elem in liste_pred[i]]\n",
        "  evolution_port = list(tf.reduce_sum(liste_pred, axis=0).numpy())\n",
        "  time_port = [i for i in range(len(evolution_port))]\n",
        "  return evolution_port, time_port"
      ],
      "metadata": {
        "id": "m-XATFEdgH9G"
      },
      "execution_count": null,
      "outputs": []
    },
    {
      "cell_type": "code",
      "source": [
        "def indication_action():\n",
        "  derniere_valeur = list()\n",
        "  derniere_pred = list()\n",
        "  indica = list()\n",
        "  dico_indic = dict()\n",
        "\n",
        "  ma_liste, ma_liste2 = pred_for_each_data()\n",
        "  for i in range(len(ma_liste2)):\n",
        "    derniere_pred.append(ma_liste2[i][-1])\n",
        "\n",
        "  for i in range(len(ma_liste)):\n",
        "    derniere_valeur.append(ma_liste[i][0])\n",
        "\n",
        "  for i in range(len(derniere_pred)):\n",
        "    if derniere_pred > derniere_valeur:\n",
        "      indica.append('Haussier')\n",
        "    else:\n",
        "      indica.append('Baissier')\n",
        "\n",
        "  for ind, nom in zip(indica, liste_nom):\n",
        "    dico_indic[nom]= ind\n",
        "\n",
        "  return dico_indic"
      ],
      "metadata": {
        "id": "GgheGq7err1j"
      },
      "execution_count": null,
      "outputs": []
    },
    {
      "cell_type": "code",
      "source": [
        "def result():\n",
        "  y,x = mean_value()\n",
        "  plt.plot(x, y, color='red')#1 minutes 30 pour tourner\n",
        "  plt.title('Evolution du portefeuille pour les 5 prochains jours')\n",
        "  print(indication_action())"
      ],
      "metadata": {
        "id": "B_nK881h_Ty8"
      },
      "execution_count": null,
      "outputs": []
    },
    {
      "cell_type": "code",
      "source": [
        "result()"
      ],
      "metadata": {
        "colab": {
          "base_uri": "https://localhost:8080/",
          "height": 318
        },
        "id": "rNSboinW_f8W",
        "outputId": "5b6e5097-da32-4c36-dbfa-6d8d9343e5cd"
      },
      "execution_count": null,
      "outputs": [
        {
          "output_type": "stream",
          "name": "stdout",
          "text": [
            "{'lvmh': 'Baissier', 'renault': 'Baissier', 'air_liquide': 'Baissier', 'airbus': 'Baissier', 'loreal': 'Baissier', 'ubisoft': 'Baissier', 'orange': 'Baissier', 'carrefour': 'Baissier', 'tf1': 'Baissier', 'edf': 'Baissier', 'ovh': 'Baissier'}\n"
          ]
        },
        {
          "output_type": "display_data",
          "data": {
            "image/png": "[encoded data removed]",
            "text/plain": [
              "<Figure size 432x288 with 1 Axes>"
            ]
          },
          "metadata": {
            "needs_background": "light"
          }
        }
      ]
    },
    {
      "cell_type": "markdown",
      "source": [
        "# Evolution du portefeuille lors du dernier mois"
      ],
      "metadata": {
        "id": "oTTcKqr4FV6z"
      }
    },
    {
      "cell_type": "markdown",
      "source": [
        "## Par action"
      ],
      "metadata": {
        "id": "tCvSVLWtd5Lc"
      }
    },
    {
      "cell_type": "code",
      "source": [
        "def evol_last_month():\n",
        "  valeur_port = list()\n",
        "  data_lvmh, d_renault, d_air, d_airbus, d_loreal, d_ubi, d_orange, d_car, d_tf1, d_edf, d_ovh = data_base()\n",
        "  i=0\n",
        "  for data in data_base():\n",
        "    data = params(data)[0]\n",
        "    list_value = data[-30:]\n",
        "    list_value = [val*liste_valeur_action[i] for val in list_value]\n",
        "    valeur_port.append(list_value)\n",
        "    i+=1\n",
        "  return valeur_port"
      ],
      "metadata": {
        "id": "aIucHABxFVk7"
      },
      "execution_count": null,
      "outputs": []
    },
    {
      "cell_type": "code",
      "source": [
        "liste = evol_last_month()\n",
        "la_liste = list()\n",
        "label=list()\n",
        "for i in range(len(liste)):\n",
        "  if liste[i][0]!=0:\n",
        "    la_liste.append(liste[i])\n",
        "    label.append(liste_nom[i])"
      ],
      "metadata": {
        "id": "oVh_9DP7JJbv"
      },
      "execution_count": null,
      "outputs": []
    },
    {
      "cell_type": "code",
      "source": [
        "temps = [i for i in range(30)]"
      ],
      "metadata": {
        "id": "X3rQycO3NZbh"
      },
      "execution_count": null,
      "outputs": []
    },
    {
      "cell_type": "code",
      "source": [
        "for i in range(len(la_liste)):\n",
        "  plt.plot(temps,la_liste[i], label=label[i])\n",
        "  plt.legend(loc=\"upper right\")\n",
        "  plt.title('Evolution du portefeuille le mois dernier, en focntion des cations detenues')"
      ],
      "metadata": {
        "colab": {
          "base_uri": "https://localhost:8080/",
          "height": 281
        },
        "id": "0h8ueWTqRBP7",
        "outputId": "f8f650b3-81e1-4ab2-d257-50b8824ffc92"
      },
      "execution_count": null,
      "outputs": [
        {
          "output_type": "display_data",
          "data": {
            "image/png": "[encoded data removed]",
            "text/plain": [
              "<Figure size 432x288 with 1 Axes>"
            ]
          },
          "metadata": {
            "needs_background": "light"
          }
        }
      ]
    },
    {
      "cell_type": "markdown",
      "source": [
        "## Toutes les actions confondues"
      ],
      "metadata": {
        "id": "jxfj4ufrd730"
      }
    },
    {
      "cell_type": "code",
      "source": [
        "mon_portf = list(tf.reduce_sum(liste, axis=0).numpy())"
      ],
      "metadata": {
        "id": "7O-eH6PuwxBF"
      },
      "execution_count": null,
      "outputs": []
    },
    {
      "cell_type": "code",
      "source": [
        "plt.plot(temps, mon_portf)\n",
        "plt.title('Evolution du portefeuille le mois dernier')"
      ],
      "metadata": {
        "colab": {
          "base_uri": "https://localhost:8080/",
          "height": 298
        },
        "id": "z-xco5iGwJnB",
        "outputId": "1e7e1c4f-072f-4c19-c980-a35c7a9d0ac5"
      },
      "execution_count": null,
      "outputs": [
        {
          "output_type": "execute_result",
          "data": {
            "text/plain": [
              "Text(0.5, 1.0, 'Evolution du portefeuille le dernier mois')"
            ]
          },
          "metadata": {},
          "execution_count": 38
        },
        {
          "output_type": "display_data",
          "data": {
            "image/png": "[encoded data removed]",
            "text/plain": [
              "<Figure size 432x288 with 1 Axes>"
            ]
          },
          "metadata": {
            "needs_background": "light"
          }
        }
      ]
    },
    {
      "cell_type": "markdown",
      "source": [
        "# Test d'autres modeles"
      ],
      "metadata": {
        "id": "8Fn72lqnkPAV"
      }
    },
    {
      "cell_type": "code",
      "source": [
        "train_df = transform_train_test(data_base()[2])[1]\n",
        "model = tf.keras.models.Sequential([\n",
        "    # tf.keras.layers.Conv1D(filters=32, kernel_size=3,\n",
        "    #                   strides=1,\n",
        "    #                   activation=\"relu\",\n",
        "    #                   input_shape=[10, 1], padding='causal'),\n",
        "    tf.keras.layers.LSTM(32, input_shape=[10,1],return_sequences=True),\n",
        "    tf.keras.layers.Bidirectional(tf.keras.layers.LSTM(32,return_sequences=False)),\n",
        "    # tf.keras.layers.Dense(150, activation=\"relu\"),\n",
        "    tf.keras.layers.Dense(10, activation=\"relu\"),\n",
        "    tf.keras.layers.Dense(1)\n",
        "  ])\n",
        "model.compile(loss=tf.keras.losses.Huber(), metrics = ['mae'], optimizer=tf.keras.optimizers.SGD(learning_rate=0.001, momentum=0.7))\n",
        "model.fit(train_df,epochs=200, verbose = 1)"
      ],
      "metadata": {
        "id": "e93a8Z35kOmy"
      },
      "execution_count": null,
      "outputs": []
    },
    {
      "cell_type": "code",
      "source": [
        "# train_df = transform_train_test(data_base()[2])[1]\n",
        "test_df = transform_train_test(data_base()[2])[0]\n",
        "  \n",
        "pred = model.predict(test_df)\n",
        "final_pred = [pred[i][0] for i in range(len(pred))]"
      ],
      "metadata": {
        "id": "n4D7sgmYkOkL"
      },
      "execution_count": null,
      "outputs": []
    },
    {
      "cell_type": "code",
      "source": [
        "time_test = transform_train_test(data_base()[2])[2]\n",
        "test = transform_train_test(data_base()[2])[4]\n",
        "\n",
        "plt.plot(time_test[10-1:],test[10-1:])#-1 car il commence a 0\n",
        "plt.plot(time_test[10-1:],final_pred,color='red')"
      ],
      "metadata": {
        "colab": {
          "base_uri": "https://localhost:8080/",
          "height": 282
        },
        "id": "VxnMbtbLx3VT",
        "outputId": "350b50d5-c939-41dc-d9f1-71a9a4e3f624"
      },
      "execution_count": null,
      "outputs": [
        {
          "output_type": "execute_result",
          "data": {
            "text/plain": [
              "[<matplotlib.lines.Line2D at 0x7f3e2f571990>]"
            ]
          },
          "metadata": {},
          "execution_count": 105
        },
        {
          "output_type": "display_data",
          "data": {
            "image/png": "[encoded data removed]",
            "text/plain": [
              "<Figure size 432x288 with 1 Axes>"
            ]
          },
          "metadata": {
            "needs_background": "light"
          }
        }
      ]
    },
    {
      "cell_type": "code",
      "source": [
        ""
      ],
      "metadata": {
        "id": "7r6KmG_313gx"
      },
      "execution_count": null,
      "outputs": []
    }
  ]
}